{
 "cells": [
  {
   "cell_type": "markdown",
   "metadata": {},
   "source": [
    "# Final Project, Part 2\n",
    "\n",
    "The purpose of this assignment is to create a 'Viz for Experts' with an interactive dashboard interface for exploring your data.\n",
    "\n",
    "For this submission option, you will submit your work through this Workspace.\n",
    "    \n",
    "**Please see Homework Prompt in PrairieLearn interface for more details on the requirements for this assignment.**\n",
    "\n",
    "A rough outline of elements of code and write-up is shown below:"
   ]
  },
  {
   "cell_type": "code",
   "execution_count": null,
   "metadata": {},
   "outputs": [],
   "source": []
  },
  {
   "cell_type": "markdown",
   "metadata": {},
   "source": [
    "## Code:\n",
    "\n",
    " * An interactive dashboard within your Workspace that helps an expert explore your dataset thoroughly.\n",
    " * There should be a \"dashboard\" type aspect to this - i.e. a linked view exploring your dataset in an interactive way (like in Lab \\#4) with [bqplot](https://bqplot.github.io/bqplot/).\n",
    " * Do not delete any cells, *just comment them out*. Show your work.\n",
    "\n"
   ]
  },
  {
   "cell_type": "code",
   "execution_count": null,
   "metadata": {},
   "outputs": [],
   "source": [
    "# pip install folium"
   ]
  },
  {
   "cell_type": "markdown",
   "metadata": {},
   "source": [
    "## Importing all the libraries"
   ]
  },
  {
   "cell_type": "code",
   "execution_count": 2,
   "metadata": {},
   "outputs": [
    {
     "name": "stderr",
     "output_type": "stream",
     "text": [
      "/home/jovyan/.local/lib/python3.8/site-packages/pandas/core/computation/expressions.py:20: UserWarning: Pandas requires version '2.7.3' or newer of 'numexpr' (version '2.7.2' currently installed).\n",
      "  from pandas.core.computation.check import NUMEXPR_INSTALLED\n",
      "Matplotlib created a temporary config/cache directory at /tmp/matplotlib-ohkh3gml because the default path (/tmp/cache/matplotlib) is not a writable directory; it is highly recommended to set the MPLCONFIGDIR environment variable to a writable directory, in particular to speed up the import of Matplotlib and to better support multiprocessing.\n"
     ]
    }
   ],
   "source": [
    "import requests\n",
    "import pandas as pd\n",
    "import numpy as np\n",
    "from io import StringIO\n",
    "import matplotlib.pyplot as plt\n",
    "import seaborn as sns\n",
    "from matplotlib.dates import DateFormatter\n",
    "import folium\n",
    "from IPython.display import display\n",
    "import ipywidgets as widgets\n",
    "from bqplot import Pie, Figure, Tooltip\n",
    "from ipywidgets import Label, VBox, HBox"
   ]
  },
  {
   "cell_type": "markdown",
   "metadata": {},
   "source": [
    "## Cleaning the dataset"
   ]
  },
  {
   "cell_type": "code",
   "execution_count": 3,
   "metadata": {},
   "outputs": [],
   "source": [
    "\n",
    "def download_dataset(api_url):\n",
    "    response = requests.get(api_url)\n",
    "    response.raise_for_status()  \n",
    "    return response.text\n",
    "\n",
    "\n",
    "def process_dataset(data_string):\n",
    "    data = pd.read_csv(StringIO(data_string))\n",
    "    \n",
    "    \n",
    "    \n",
    "    replacements = {\n",
    "        '<0.05': '0.05',\n",
    "        '< 0.05': '0.05',\n",
    "        '>0.95': '0.95',\n",
    "        '> 0.95': '0.95',\n",
    "        '-999': '0'\n",
    "    }\n",
    "    data.replace(replacements, regex=True, inplace=True)\n",
    "\n",
    "    data['minor'] = data['minor'].astype(float)\n",
    "    data['moderate'] = data['moderate'].astype(float)\n",
    "    data['major'] = data['major'].astype(float)\n",
    "    \n",
    "\n",
    "    column_names = {\n",
    "        'lid': 'Location ID',\n",
    "        'name': 'Name',\n",
    "        'lat': 'Latitude',\n",
    "        'lon': 'Longitude',\n",
    "        'wfo': 'Weather Forecast Office',\n",
    "        'rfc': 'River Forecast Center',\n",
    "        'wrr': 'Water Resource Region',\n",
    "        'state': 'State',\n",
    "        'minor': 'Minor Flood Risk',\n",
    "        'moderate': 'Moderate Flood Risk',\n",
    "        'major': 'Major Flood Risk',\n",
    "        'date_produced': 'Date Produced',\n",
    "        'obj_or_subj': 'Objective or Subjective',\n",
    "        'interval': 'Interval'\n",
    "    }\n",
    "    data.rename(columns=column_names, inplace=True)\n",
    "    \n",
    "\n",
    "    return data\n",
    "\n",
    "api_url = 'https://water.weather.gov/resources/tmp/long_range_river_flood_risk_data.csv' \n",
    "csv_data = download_dataset(api_url)\n",
    "processed_data = process_dataset(csv_data)\n",
    "\n",
    "processed_data['Longitude'] = -processed_data['Longitude']"
   ]
  },
  {
   "cell_type": "markdown",
   "metadata": {},
   "source": [
    "## Plotting graph 1\n"
   ]
  },
  {
   "cell_type": "code",
   "execution_count": 4,
   "metadata": {},
   "outputs": [],
   "source": [
    "# def plot_data(processed_data):\n",
    "#     plt.figure(figsize=(10, 6))\n",
    "#     plt.bar(processed_data['Name'][:10], processed_data['Minor Flood Risk'][:10], color='#9ecae1', label='Minor Flood Risk')\n",
    "#     plt.bar(processed_data['Name'][:10], processed_data['Moderate Flood Risk'][:10], color='#4292c6', label='Moderate Flood Risk', bottom=processed_data['Minor Flood Risk'][:10])\n",
    "#     plt.bar(processed_data['Name'][:10], processed_data['Major Flood Risk'][:10], color='#084594', label='Major Flood Risk',\n",
    "#             bottom=processed_data['Minor Flood Risk'][:10] + processed_data['Moderate Flood Risk'][:10])\n",
    "#     plt.xlabel('Location')\n",
    "#     plt.ylabel('Flood Risk Levels')\n",
    "#     plt.title('Flood Risk Levels by Location')\n",
    "#     plt.xticks(rotation=45)\n",
    "#     plt.legend()\n",
    "#     plt.tight_layout()\n",
    "#     plt.show()"
   ]
  },
  {
   "cell_type": "markdown",
   "metadata": {},
   "source": [
    "## Plotting graph 2"
   ]
  },
  {
   "cell_type": "code",
   "execution_count": 5,
   "metadata": {},
   "outputs": [],
   "source": [
    "# def display_flood_risk_pie_chart(processed_data):\n",
    "#     risk_levels_sum = {\n",
    "#         'Minor Flood Risk': processed_data['Minor Flood Risk'].sum(),\n",
    "#         'Moderate Flood Risk': processed_data['Moderate Flood Risk'].sum(),\n",
    "#         'Major Flood Risk': processed_data['Major Flood Risk'].sum()\n",
    "#     }\n",
    "\n",
    "#     labels = list(risk_levels_sum.keys())\n",
    "#     sizes = list(risk_levels_sum.values())\n",
    "#     total = sum(sizes)\n",
    "#     percentages = [(s/total)*100 for s in sizes]  # Convert to percentages\n",
    "\n",
    "#     pie = Pie(sizes=percentages, labels=labels, sort=False, display_labels='outside',\n",
    "#               label_color='black', colors=['#9ecae1', '#6baed6', '#4292c6'], \n",
    "#               label_display_format='.2f')\n",
    "\n",
    "#     tooltip = Tooltip(fields=['size'], labels=['Percentage'])\n",
    "#     pie.tooltip = tooltip\n",
    "#     pie.tooltip_formats = ['.2f%']  # Format percentages with 2 decimal places\n",
    "\n",
    "#     fig = Figure(marks=[pie], title='Distribution of Flood Risk Levels Across All Locations')\n",
    "\n",
    "#     return VBox([fig])"
   ]
  },
  {
   "cell_type": "markdown",
   "metadata": {},
   "source": [
    "## Calling all the graphs"
   ]
  },
  {
   "cell_type": "code",
   "execution_count": 6,
   "metadata": {},
   "outputs": [],
   "source": [
    "# plot_data(processed_data)\n",
    "# display_flood_risk_pie_chart(processed_data)"
   ]
  },
  {
   "cell_type": "markdown",
   "metadata": {},
   "source": [
    "## Plotting graph 3"
   ]
  },
  {
   "cell_type": "code",
   "execution_count": 7,
   "metadata": {},
   "outputs": [],
   "source": [
    "def update_markers(risk_option, state_option):\n",
    "    mymap = folium.Map(location=[processed_data['Latitude'].mean(), processed_data['Longitude'].mean()], zoom_start=5)\n",
    "    for index, row in processed_data.iterrows():\n",
    "        if row[risk_option] >= 0.06 and risk_option == 'Major Flood Risk' and row['State'] == state_option:\n",
    "            color = 'darkblue'\n",
    "            folium.Marker([row['Latitude'], row['Longitude']], icon=folium.Icon(color=color)).add_to(mymap)\n",
    "        elif row[risk_option] >= 0.075 and risk_option == 'Moderate Flood Risk' and row['State'] == state_option:\n",
    "            color = 'blue'\n",
    "            folium.Marker([row['Latitude'], row['Longitude']], icon=folium.Icon(color=color)).add_to(mymap)\n",
    "        elif risk_option == 'Minor Flood Risk' and row['State'] == state_option:\n",
    "            color = 'lightblue'\n",
    "            folium.Marker([row['Latitude'], row['Longitude']], icon=folium.Icon(color=color)).add_to(mymap)\n",
    "    display(mymap)\n",
    "\n",
    "def main():\n",
    "    risk_options = ['Minor Flood Risk', 'Moderate Flood Risk', 'Major Flood Risk']\n",
    "    state_options = processed_data['State'].unique().tolist()\n",
    "    risk_dropdown = widgets.Dropdown(options=risk_options, description='Flood Risk Level')\n",
    "    state_dropdown = widgets.Dropdown(options=state_options, description='State')\n",
    "\n",
    "    interactive_plot = widgets.interactive(update_markers, risk_option=risk_dropdown, state_option=state_dropdown)\n",
    "    display(interactive_plot) "
   ]
  },
  {
   "cell_type": "markdown",
   "metadata": {},
   "source": [
    "## Calling graph 3"
   ]
  },
  {
   "cell_type": "code",
   "execution_count": 8,
   "metadata": {},
   "outputs": [],
   "source": [
    "# main()"
   ]
  },
  {
   "cell_type": "markdown",
   "metadata": {},
   "source": [
    "## Interactive graph"
   ]
  },
  {
   "cell_type": "code",
   "execution_count": 9,
   "metadata": {},
   "outputs": [],
   "source": [
    "def plot_flood_risk(processed_data, state):\n",
    "    if state == 'All':\n",
    "        filtered_data = processed_data\n",
    "    else:\n",
    "        filtered_data = processed_data[processed_data['State'] == state]\n",
    "    \n",
    "    plt.figure(figsize=(20, 15))\n",
    "    \n",
    "\n",
    "    risk_levels_sum = {\n",
    "        'Minor Flood Risk': filtered_data['Minor Flood Risk'].sum(),\n",
    "        'Moderate Flood Risk': filtered_data['Moderate Flood Risk'].sum(),\n",
    "        'Major Flood Risk': filtered_data['Major Flood Risk'].sum()\n",
    "    }\n",
    "\n",
    "    labels = list(risk_levels_sum.keys())\n",
    "    sizes = list(risk_levels_sum.values())\n",
    "    total = sum(sizes)\n",
    "    percentages = [(s/total)*100 for s in sizes]  # Convert to percentages\n",
    "\n",
    "    plt.subplot(3, 2, 1)\n",
    "    plt.pie(sizes, labels=labels, autopct='%1.1f%%', colors=['#9ecae1', '#6baed6', '#4292c6'])\n",
    "    plt.title('Distribution of Flood Risk Levels Across The Given State')\n",
    "    \n",
    "    plt.subplot(3, 2, 2)\n",
    "    plt.hist(filtered_data['Minor Flood Risk'], bins=10, edgecolor='black', color='#9ecae1')\n",
    "    plt.xlabel('Minor Flood Risk')\n",
    "    plt.ylabel('Frequency')\n",
    "    plt.title(f'Distribution of Minor Flood Risk for {state} State')\n",
    "\n",
    "    plt.subplot(3, 2, 3)\n",
    "    plt.hist(filtered_data['Moderate Flood Risk'], bins=10, edgecolor='black', color='#6baed6')\n",
    "    plt.xlabel('Moderate Flood Risk')\n",
    "    plt.ylabel('Frequency')\n",
    "    plt.title(f'Distribution of Moderate Flood Risk for {state} State')\n",
    "\n",
    "    plt.subplot(3, 2, 4)\n",
    "    plt.hist(filtered_data['Major Flood Risk'], bins=10, edgecolor='black', color = '#4292c6')\n",
    "    plt.xlabel('Major Flood Risk')\n",
    "    plt.ylabel('Frequency')\n",
    "    plt.title(f'Distribution of Major Flood Risk for {state} State')\n",
    "\n",
    "    plt.subplot(3, 1, 3)\n",
    "    locations = filtered_data['Name'][:10]\n",
    "    minor_risk = filtered_data['Minor Flood Risk'][:10]\n",
    "    moderate_risk = filtered_data['Moderate Flood Risk'][:10]\n",
    "    major_risk = filtered_data['Major Flood Risk'][:10]\n",
    "\n",
    "    plt.bar(locations, minor_risk, color='#9ecae1', label='Minor Flood Risk')\n",
    "    plt.bar(locations, moderate_risk, color='#6baed6', label='Moderate Flood Risk', bottom=minor_risk)\n",
    "    plt.bar(locations, major_risk, color='#4292c6', label='Major Flood Risk', bottom=minor_risk + moderate_risk)\n",
    "    plt.xlabel('Location')\n",
    "    plt.ylabel('Flood Risk Levels')\n",
    "    plt.title(f'Flood Risk Levels by Location in {state}')\n",
    "    plt.xticks(rotation=45)\n",
    "    plt.legend()\n",
    "\n",
    "    plt.tight_layout()\n",
    "    plt.show()\n",
    "\n",
    "state_dropdown = widgets.Dropdown(options=['All'] + processed_data['State'].unique().tolist(), description='State:')"
   ]
  },
  {
   "cell_type": "markdown",
   "metadata": {},
   "source": [
    "# DASHBOARD 1"
   ]
  },
  {
   "cell_type": "code",
   "execution_count": 10,
   "metadata": {},
   "outputs": [
    {
     "data": {
      "application/vnd.jupyter.widget-view+json": {
       "model_id": "e8f16c7f41034412adf564846deaf1f0",
       "version_major": 2,
       "version_minor": 0
      },
      "text/plain": [
       "interactive(children=(Dropdown(description='State:', options=('All', 'GA', 'MS', 'KS', 'MT', 'NE', 'ND', 'IN',…"
      ]
     },
     "metadata": {},
     "output_type": "display_data"
    }
   ],
   "source": [
    "widgets.interactive(plot_flood_risk, processed_data=widgets.fixed(processed_data), state=state_dropdown)"
   ]
  },
  {
   "cell_type": "markdown",
   "metadata": {},
   "source": [
    "# DASHBOARD 2"
   ]
  },
  {
   "cell_type": "code",
   "execution_count": 11,
   "metadata": {},
   "outputs": [
    {
     "data": {
      "application/vnd.jupyter.widget-view+json": {
       "model_id": "65d55849c1a94e79b6059513e0ceb286",
       "version_major": 2,
       "version_minor": 0
      },
      "text/plain": [
       "interactive(children=(Dropdown(description='Flood Risk Level', options=('Minor Flood Risk', 'Moderate Flood Ri…"
      ]
     },
     "metadata": {},
     "output_type": "display_data"
    }
   ],
   "source": [
    "main()"
   ]
  },
  {
   "cell_type": "markdown",
   "metadata": {},
   "source": [
    "# Dataset Overview\n",
    "\n",
    "## Purpose\n",
    "The dataset is designed to provide detailed insights into flood risks at multiple locations, aiding experts and policymakers in developing strategies for flood preparedness and response.\n",
    "\n",
    "## Data Fields\n",
    "- **Location ID (`lid`)**: Unique identifier for each location. (String)\n",
    "- **Name (`name`)**: Name of the location. (String)\n",
    "- **Latitude (`lat`)**: Geographic latitude of the location. (Float)\n",
    "- **Longitude (`lon`)**: Geographic longitude of the location, with negative values indicating the western hemisphere. (Float)\n",
    "- **Weather Forecast Office (`wfo`)**: The meteorological office responsible for weather forecasts at the location. (String)\n",
    "- **River Forecast Center (`rfc`)**: The center responsible for issuing river-based forecasts and warnings. (String)\n",
    "- **Water Resource Region (`wrr`)**: The designated region for water management where the location is situated. (String)\n",
    "- **State (`state`)**: The U.S. state where the location is found. (String)\n",
    "- **Minor Flood Risk (`minor`)**: Numeric value representing the assessed risk of minor flooding. (Float)\n",
    "- **Moderate Flood Risk (`moderate`)**: Numeric value representing the assessed risk of moderate flooding. (Float)\n",
    "- **Major Flood Risk (`major`)**: Numeric value representing the assessed risk of major flooding. (Float)\n",
    "- **Date Produced (`date_produced`)**: The date when the data was generated, can be formatted as a date for temporal analyses. (String)\n",
    "- **Objective or Subjective (`obj_or_subj`)**: Indicates whether the risk assessment is based on objective data or subjective analysis. (String)\n",
    "- **Interval (`interval`)**: The time interval for which the data applies. (String)\n",
    "\n",
    "## Data Types\n",
    "- **Strings**: Used for identifiers, names, and descriptive fields that involve text.\n",
    "- **Floats**: Used for geographic coordinates and precise risk measurements.\n",
    "- **Date/String**: 'Date Produced' could be treated as a date type for temporal analysis depending on the formatting."
   ]
  },
  {
   "cell_type": "markdown",
   "metadata": {},
   "source": [
    "# Dashboard 1: Flood Risk Analysis\n",
    "\n",
    "This interactive dashboard is designed to explore and present flood risk data across the U.S. states. It integrates various types of visualizations to provide comprehensive insights into the distribution of flood risks.\n",
    "\n",
    "## Features\n",
    "\n",
    "- **State Selection Dropdown**: Allows the user to select either a specific state or 'All' states for aggregate data visualization. This feature facilitates targeted analysis of flood risk data.\n",
    "\n",
    "- **Visualizations Included**:\n",
    "  - **Pie Chart**: Displays the proportionate distribution of Minor, Moderate, and Major flood risks, offering an immediate visual assessment of the severity of risks in the selected area.\n",
    "  - **Histograms**: There are three histograms showing the frequency distributions of Minor, Moderate, and Major flood risks. These plots help understand how commonly different levels of risks occur and their variability within the selected data scope.\n",
    "  - **Bar Plot**: Compares the top 10 locations within the chosen area by their flood risk levels, displayed in a stacked format. This visualization highlights areas with heightened risks, which can be crucial for prioritizing flood management and mitigation efforts.\n",
    "\n",
    "## Interactivity\n",
    "\n",
    "- The dashboard updates dynamically based on the state selected from the dropdown menu, making it a powerful tool for real-time data exploration. All visualizations reflect the current selection, ensuring that users have the latest information at their fingertips.\n",
    "\n",
    "## Usage\n",
    "\n",
    "This tool is invaluable for policymakers, urban planners, and disaster management professionals looking to develop informed strategies to mitigate flood risks. It is also a useful educational resource for the public and researchers interested in environmental management."
   ]
  },
  {
   "cell_type": "markdown",
   "metadata": {},
   "source": [
    "# Dashboard 2: Interactive Flood Risk Mapping\n",
    "\n",
    "This dashboard utilizes interactive maps to visualize specific flood risks across various locations in U.S. states. It allows users to select flood risk levels and states to see real-time geographic distributions of risks.\n",
    "\n",
    "## Features\n",
    "\n",
    "- **Interactive Map Visualization**: Utilizes Folium for dynamic mapping, providing a geographical representation of flood risk data.\n",
    "  \n",
    "- **Customizable Viewing Options**:\n",
    "  - **Flood Risk Level Dropdown**: Users can choose to view Minor, Moderate, or Major flood risks. This dropdown allows for specific risk level analysis.\n",
    "  - **State Dropdown**: Users can select a specific state to focus the map's view, enabling more localized analysis of flood risks.\n",
    "\n",
    "- **Marker Visualization**:\n",
    "  - **Markers on Map**: Depending on the selected risk level and state, markers are placed on the map in colors representing the severity of flood risks:\n",
    "    - Dark Blue for Major Flood Risks (threshold >= 0.06)\n",
    "    - Blue for Moderate Flood Risks (threshold >= 0.075)\n",
    "    - Light Blue for Minor Flood Risks\n",
    "\n",
    "### Interactivity\n",
    "\n",
    "- The map updates dynamically based on user selections from the dropdown menus. This interactivity allows for tailored visualization and aids in pinpointing high-risk areas more effectively.\n",
    "\n",
    "### Usage\n",
    "\n",
    "This tool is particularly useful for environmental analysts, emergency planners, and governmental agencies engaged in flood management. It helps in planning interventions and understanding spatial distributions of flood risks."
   ]
  }
 ],
 "metadata": {
  "kernelspec": {
   "display_name": "Python 3",
   "language": "python",
   "name": "python3"
  },
  "language_info": {
   "codemirror_mode": {
    "name": "ipython",
    "version": 3
   },
   "file_extension": ".py",
   "mimetype": "text/x-python",
   "name": "python",
   "nbconvert_exporter": "python",
   "pygments_lexer": "ipython3",
   "version": "3.8.6"
  }
 },
 "nbformat": 4,
 "nbformat_minor": 4
}
